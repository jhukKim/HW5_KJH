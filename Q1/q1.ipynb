{
 "cells": [
  {
   "cell_type": "code",
   "execution_count": 6,
   "id": "63bd4640",
   "metadata": {},
   "outputs": [
    {
     "name": "stdout",
     "output_type": "stream",
     "text": [
      "*** Annual Temperature Report for Seoul in 2022 ***\n",
      "Average Temperature:13.26 Celsius\n",
      "Average Minimum Temperature:9.21 Celsius\n",
      "Average Maximum Temperature:18.05 Celsius\n"
     ]
    }
   ],
   "source": [
    "import csv\n",
    "\n",
    "def main():\n",
    "    day=0\n",
    "    yearTemp=0\n",
    "    minTemp=999999\n",
    "    maxTemp=-999999\n",
    "    yearLow=0\n",
    "    yearMax=0\n",
    "\n",
    "    f=open('q1.csv')\n",
    "    data=csv.reader(f)\n",
    "    next(data)\n",
    "    next(data)\n",
    "    next(data)\n",
    "    next(data)\n",
    "    next(data)\n",
    "    next(data)\n",
    "    header=next(data)\n",
    "    for row in data:\n",
    "        if len(row[-1])!=0 and len(row[-2])!=0 and len(row[-3])!=0:\n",
    "            day+=1\n",
    "            row[-1]=float(row[-1])\n",
    "            row[-2]=float(row[-2])\n",
    "            row[-3]=float(row[-3])\n",
    "            yearTemp=yearTemp+row[-3]\n",
    "            yearMax=yearMax+row[-1]\n",
    "            yearLow=yearLow+row[-2]\n",
    "\n",
    "\n",
    "    f.close()\n",
    "    \n",
    "    yearTemp=yearTemp/day\n",
    "    yearMax=yearMax/day\n",
    "    yearLow=yearLow/day\n",
    "\n",
    "\n",
    "    print(\"*** Annual Temperature Report for Seoul in 2022 ***\")\n",
    "    print(\"Average Temperature:{:.2f} Celsius\".format(yearTemp))\n",
    "    print(\"Average Minimum Temperature:{:.2f} Celsius\".format(yearLow))\n",
    "    print(\"Average Maximum Temperature:{:.2f} Celsius\".format(yearMax))\n",
    "    \n",
    "if __name__==\"__main__\":\n",
    "    main()"
   ]
  },
  {
   "cell_type": "code",
   "execution_count": null,
   "id": "c5af53a6",
   "metadata": {},
   "outputs": [],
   "source": []
  }
 ],
 "metadata": {
  "kernelspec": {
   "display_name": "Python 3 (ipykernel)",
   "language": "python",
   "name": "python3"
  },
  "language_info": {
   "codemirror_mode": {
    "name": "ipython",
    "version": 3
   },
   "file_extension": ".py",
   "mimetype": "text/x-python",
   "name": "python",
   "nbconvert_exporter": "python",
   "pygments_lexer": "ipython3",
   "version": "3.9.13"
  }
 },
 "nbformat": 4,
 "nbformat_minor": 5
}
