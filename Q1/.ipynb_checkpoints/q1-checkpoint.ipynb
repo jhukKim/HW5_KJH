{
 "cells": [
  {
   "cell_type": "code",
   "execution_count": 3,
   "id": "63bd4640",
   "metadata": {},
   "outputs": [
    {
     "name": "stdout",
     "output_type": "stream",
     "text": [
      "*** Annual Temperature Report for Seoul in 2022 ***\n",
      "Average Temperature:-1.20 Celsius\n",
      "Average Minimum Temperature:-13.70 Celsius\n",
      "Average Maximum Temperature:36.10 Celsius\n"
     ]
    }
   ],
   "source": [
    "import csv\n",
    "\n",
    "def main():\n",
    "    day=0\n",
    "    yearTemp=0\n",
    "    minTemp=999999\n",
    "    maxTemp=-999999\n",
    "\n",
    "    f=open('q1.csv')\n",
    "    data=csv.reader(f)\n",
    "    next(data)\n",
    "    next(data)\n",
    "    next(data)\n",
    "    next(data)\n",
    "    next(data)\n",
    "    next(data)\n",
    "    header=next(data)\n",
    "    for row in data:\n",
    "        if len(row[-1])!=0 and len(row[-2])!=0 and len(row[-3])!=0:\n",
    "            day+=1\n",
    "            row[-1]=float(row[-1])\n",
    "            row[-2]=float(row[-2])\n",
    "            row[-3]=float(row[-3])\n",
    "            yearTemp=row[-3]\n",
    "            if(row[-1]>maxTemp):\n",
    "                maxTemp=row[-1]\n",
    "            if(row[-2]<minTemp):\n",
    "                minTemp=row[-2]\n",
    "\n",
    "    f.close()\n",
    "\n",
    "\n",
    "\n",
    "    print(\"*** Annual Temperature Report for Seoul in 2022 ***\")\n",
    "    print(\"Average Temperature:{:.2f} Celsius\".format(yearTemp))\n",
    "    print(\"Average Minimum Temperature:{:.2f} Celsius\".format(minTemp))\n",
    "    print(\"Average Maximum Temperature:{:.2f} Celsius\".format(maxTemp))\n",
    "    \n",
    "if __name__==\"__main__\":\n",
    "    main()"
   ]
  },
  {
   "cell_type": "code",
   "execution_count": null,
   "id": "c5af53a6",
   "metadata": {},
   "outputs": [],
   "source": []
  }
 ],
 "metadata": {
  "kernelspec": {
   "display_name": "Python 3 (ipykernel)",
   "language": "python",
   "name": "python3"
  },
  "language_info": {
   "codemirror_mode": {
    "name": "ipython",
    "version": 3
   },
   "file_extension": ".py",
   "mimetype": "text/x-python",
   "name": "python",
   "nbconvert_exporter": "python",
   "pygments_lexer": "ipython3",
   "version": "3.9.13"
  }
 },
 "nbformat": 4,
 "nbformat_minor": 5
}
