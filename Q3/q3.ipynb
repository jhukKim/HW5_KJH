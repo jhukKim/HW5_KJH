{
 "cells": [
  {
   "cell_type": "code",
   "execution_count": 3,
   "id": "6fcf47a2",
   "metadata": {},
   "outputs": [
    {
     "name": "stdout",
     "output_type": "stream",
     "text": [
      "***Subway Report for Seoul on March 2023***\n",
      "1st Busiest Line:Line2(85620512)\n",
      "2st Busiest Line:Line5(39671990)\n",
      "1st Least used Line:Line8(11863928)\n",
      "2st Least used Line:Line1(14705833)\n"
     ]
    }
   ],
   "source": [
    "import csv\n",
    "\n",
    "def main():\n",
    "    f=open('q3.csv',encoding='cp949')\n",
    "    data=csv.reader(f)\n",
    "    header=next(data)\n",
    "    \n",
    "    sdic={1:0,2:0,3:0,4:0,5:0,6:0,7:0,8:0,9:0}\n",
    "    \n",
    "    for row in data:\n",
    "        if row[1]==\"1호선\" or row[1]==\"2호선\" or row[1]==\"3호선\" or row[1]==\"4호선\" or row[1]==\"5호선\" or row[1]==\"6호선\" or row[1]==\"7호선\" or row[1]==\"8호선\" or row[1]==\"9호선\":\n",
    "            row[-2]=int(row[-2])\n",
    "            row[-3]=int(row[-3])\n",
    "            if(row[1]==\"1호선\"):\n",
    "                sdic[1]=sdic[1]+row[-2]+row[-3]\n",
    "            elif row[1]==\"2호선\":\n",
    "                sdic[2]=sdic[2]+row[-2]+row[-3]\n",
    "            elif row[1]==\"3호선\":\n",
    "                sdic[3]=sdic[3]+row[-2]+row[-3]\n",
    "            elif row[1]==\"4호선\":\n",
    "                sdic[4]=sdic[4]+row[-2]+row[-3]\n",
    "            elif row[1]==\"5호선\":\n",
    "                sdic[5]=sdic[5]+row[-2]+row[-3]\n",
    "            elif row[1]==\"6호선\":\n",
    "                sdic[6]=sdic[6]+row[-2]+row[-3]\n",
    "            elif row[1]==\"7호선\":\n",
    "                sdic[7]=sdic[7]+row[-2]+row[-3]\n",
    "            elif row[1]==\"8호선\":\n",
    "                sdic[8]=sdic[8]+row[-2]+row[-3]\n",
    "            elif row[1]==\"9호선\":\n",
    "                sdic[9]=sdic[9]+row[-2]+row[-3]\n",
    "                \n",
    "            \n",
    "\n",
    "        #print(row)\n",
    "   \n",
    "    \n",
    "    f.close()\n",
    "    print(\"***Subway Report for Seoul on March 2023***\")\n",
    "    max_key=max(sdic,key=sdic.get)\n",
    "    print(\"1st Busiest Line:Line{}({})\".format(max_key,sdic[max_key]))\n",
    "    del sdic[max_key]\n",
    "    max_key=max(sdic,key=sdic.get)\n",
    "    print(\"2st Busiest Line:Line{}({})\".format(max_key,sdic[max_key]))\n",
    "    min_key=min(sdic,key=sdic.get)\n",
    "    print(\"1st Least used Line:Line{}({})\".format(min_key,sdic[min_key]))\n",
    "    del sdic[min_key]\n",
    "    min_key=min(sdic,key=sdic.get)\n",
    "    print(\"2st Least used Line:Line{}({})\".format(min_key,sdic[min_key]))\n",
    "    \n",
    "    \n",
    "if __name__==\"__main__\":\n",
    "    main()"
   ]
  },
  {
   "cell_type": "code",
   "execution_count": null,
   "id": "aad58405",
   "metadata": {},
   "outputs": [],
   "source": []
  }
 ],
 "metadata": {
  "kernelspec": {
   "display_name": "Python 3 (ipykernel)",
   "language": "python",
   "name": "python3"
  },
  "language_info": {
   "codemirror_mode": {
    "name": "ipython",
    "version": 3
   },
   "file_extension": ".py",
   "mimetype": "text/x-python",
   "name": "python",
   "nbconvert_exporter": "python",
   "pygments_lexer": "ipython3",
   "version": "3.9.13"
  }
 },
 "nbformat": 4,
 "nbformat_minor": 5
}
