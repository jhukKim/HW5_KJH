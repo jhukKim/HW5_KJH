{
 "cells": [
  {
   "cell_type": "code",
   "execution_count": 10,
   "id": "68282f9d",
   "metadata": {},
   "outputs": [
    {
     "name": "stdout",
     "output_type": "stream",
     "text": [
      "*** Annual Temperature Report for Seoul in 2022 ***\n",
      "Day with the Largest Temperature Variation:2022-11-29\n",
      "Maximum Temperature Difference:16.6 Celsius\n",
      "Day with the Smallest Temperature Variation:2022-06-29\n",
      "Minimum Temperature Difference:1.7 Celsius\n"
     ]
    }
   ],
   "source": [
    "import csv\n",
    "\n",
    "def main():\n",
    "    maxDiff=-99999999\n",
    "    maxDay=\"\"\n",
    "    minDiff=99999999\n",
    "    minDay=\"\"\n",
    "    \n",
    "    f=open('q2.csv')\n",
    "    data=csv.reader(f)\n",
    "    next(data)\n",
    "    next(data)\n",
    "    next(data)\n",
    "    next(data)\n",
    "    next(data)\n",
    "    next(data)\n",
    "    header=next(data)\n",
    "    for row in data:\n",
    "        if len(row[-1])!=0 and len(row[-2])!=0 and len(row[-3])!=0:\n",
    "            row[-1]=float(row[-1])\n",
    "            row[-2]=float(row[-2])\n",
    "            row[-3]=float(row[-3])\n",
    "            if (row[-1]-row[-2]>maxDiff):\n",
    "                maxDiff=row[-1]-row[-2]\n",
    "                maxDay=row[0]\n",
    "            if (row[-1]-row[-2]<minDiff):\n",
    "                minDiff=row[-1]-row[-2]\n",
    "                minDay=row[0]\n",
    "\n",
    "    f.close()\n",
    "\n",
    "\n",
    "\n",
    "    print(\"*** Annual Temperature Report for Seoul in 2022 ***\")\n",
    "    print(\"Day with the Largest Temperature Variation:{}\".format(maxDay))\n",
    "    print(\"Maximum Temperature Difference:{:.1f} Celsius\".format(maxDiff))\n",
    "    print(\"Day with the Smallest Temperature Variation:{}\".format(minDay))\n",
    "    print(\"Minimum Temperature Difference:{:.1f} Celsius\".format(minDiff))\n",
    "    \n",
    "if __name__==\"__main__\":\n",
    "    main()"
   ]
  },
  {
   "cell_type": "code",
   "execution_count": null,
   "id": "28936eca",
   "metadata": {},
   "outputs": [],
   "source": []
  }
 ],
 "metadata": {
  "kernelspec": {
   "display_name": "Python 3 (ipykernel)",
   "language": "python",
   "name": "python3"
  },
  "language_info": {
   "codemirror_mode": {
    "name": "ipython",
    "version": 3
   },
   "file_extension": ".py",
   "mimetype": "text/x-python",
   "name": "python",
   "nbconvert_exporter": "python",
   "pygments_lexer": "ipython3",
   "version": "3.9.13"
  }
 },
 "nbformat": 4,
 "nbformat_minor": 5
}
